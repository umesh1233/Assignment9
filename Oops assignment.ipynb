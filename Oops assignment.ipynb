{
 "cells": [
  {
   "cell_type": "code",
   "execution_count": null,
   "id": "3b754a9b-bc42-4577-a08c-8cb773fe6f41",
   "metadata": {},
   "outputs": [],
   "source": [
    "#Q.1\n",
    "Abstraction is the process of hiding the internal details of an application from the outer world."
   ]
  },
  {
   "cell_type": "code",
   "execution_count": 1,
   "id": "cc3b73d1-a8fa-43ca-a854-145aaab4c071",
   "metadata": {},
   "outputs": [
    {
     "name": "stdout",
     "output_type": "stream",
     "text": [
      "Umesh Kumar\n",
      "Damoh, MP MP470880 898649866645\n",
      "Indian Python Programming A+\n"
     ]
    }
   ],
   "source": [
    "class Person:\n",
    "    def __init__(self):\n",
    "        self.name = \"Umesh Kumar\"\n",
    "\n",
    "    def bio(self):\n",
    "        self.addr = \"Damoh, MP\"\n",
    "        self.taxInfo = \"MP470880\"\n",
    "        self.contact = \"898649866645\"\n",
    "        print(self.addr, self.taxInfo, self.contact)\n",
    "\n",
    "    def interest(self):\n",
    "        self.favFood = \"Indian\"\n",
    "        self.hobbies = \"Python Programming\"\n",
    "        self.bloodGroup = \"A+\"\n",
    "        print(self.favFood, self.hobbies, self.bloodGroup)\n",
    "\n",
    "obj = Person()\n",
    "print(obj.name)\n",
    "obj.bio()\n",
    "obj.interest()"
   ]
  },
  {
   "cell_type": "code",
   "execution_count": null,
   "id": "5a37bece-4fa1-4081-90bd-c052b70a337e",
   "metadata": {},
   "outputs": [],
   "source": [
    "#Q.2\n",
    "Abstraction is hiding the details and implementation of the code.\n",
    "Encapsulation is hiding the data and controlling the visibility of the code."
   ]
  },
  {
   "cell_type": "code",
   "execution_count": null,
   "id": "c980159d-57dc-4c21-bcb8-e7fd8ce9ac04",
   "metadata": {},
   "outputs": [
    {
     "name": "stdout",
     "output_type": "stream",
     "text": [
      "\n",
      "    1.Display Book\n",
      "    2.Borrow Book\n",
      "    3.Return Book\n",
      "\n"
     ]
    },
    {
     "name": "stdin",
     "output_type": "stream",
     "text": [
      "Enter Your Choice :  1\n"
     ]
    },
    {
     "name": "stdout",
     "output_type": "stream",
     "text": [
      "Available Books\n",
      "C\n",
      "C++\n",
      "Python\n",
      "\n",
      "    1.Display Book\n",
      "    2.Borrow Book\n",
      "    3.Return Book\n",
      "\n"
     ]
    }
   ],
   "source": [
    "class Library:\n",
    "    def __init__(self, books):\n",
    "        self.books = books\n",
    " \n",
    "    def list_books(self):\n",
    "        print(\"Available Books\")\n",
    "        for book in self.books:\n",
    "            print(book)\n",
    " \n",
    "    def borrow_book(self, borrow_book):\n",
    "        if borrow_book in self.books:\n",
    "            print(\"Get Your Book Now\")\n",
    "            self.books.remove(borrow_book)\n",
    "        else:\n",
    "            print(\"Book not Available\")\n",
    " \n",
    "    def receive_book(self, receive_book):\n",
    "        print(\"You have returned the book\")\n",
    "        self.books.append(receive_book)\n",
    " \n",
    " \n",
    "books = ['C', 'C++', 'Python']\n",
    "o = Library(books)\n",
    " \n",
    "msg = \"\"\"\n",
    "    1.Display Book\n",
    "    2.Borrow Book\n",
    "    3.Return Book\n",
    "\"\"\"\n",
    "while True:\n",
    "    print(msg)\n",
    "    ch = int(input(\"Enter Your Choice : \"))\n",
    "    if ch == 1:\n",
    "        o.list_books()\n",
    "    elif ch == 2:\n",
    "        book = input(\"Enter Book Name To Borrow : \")\n",
    "        o.borrow_book(book)\n",
    "    elif ch == 3:\n",
    "        book = input(\"Enter Book Name To Return : \")\n",
    "        o.receive_book(book)\n",
    "    else:\n",
    "        print(\"Thank You come again\")\n",
    "        quit()"
   ]
  },
  {
   "cell_type": "code",
   "execution_count": null,
   "id": "b533cb2a-d368-4f94-ae95-71ec9d571647",
   "metadata": {},
   "outputs": [],
   "source": [
    "#Q.3\n",
    "The 'abc' module in Python library provides the infrastructure for defining custom abstract base classes.\n",
    "'abc' works by marking methods of the base class as abstract.\n",
    "An abstract base class is a class that is used as a blueprint for other classes. \n",
    "Abstract base classes are a powerful feature in Python since they help \n",
    "you define a blueprint for other classes that may have something in common."
   ]
  },
  {
   "cell_type": "code",
   "execution_count": null,
   "id": "350ab71a-2534-44d6-bdb2-1410f01f2045",
   "metadata": {},
   "outputs": [],
   "source": [
    "#Q.4\n",
    "Data Abstraction in Python can be achieved through creating abstract classes and inheriting them later. "
   ]
  },
  {
   "cell_type": "code",
   "execution_count": null,
   "id": "0aea7e95-de0f-4e5b-9462-cc7da3c3a167",
   "metadata": {},
   "outputs": [],
   "source": [
    "#Q.5\n"
   ]
  }
 ],
 "metadata": {
  "kernelspec": {
   "display_name": "Python 3 (ipykernel)",
   "language": "python",
   "name": "python3"
  },
  "language_info": {
   "codemirror_mode": {
    "name": "ipython",
    "version": 3
   },
   "file_extension": ".py",
   "mimetype": "text/x-python",
   "name": "python",
   "nbconvert_exporter": "python",
   "pygments_lexer": "ipython3",
   "version": "3.10.8"
  }
 },
 "nbformat": 4,
 "nbformat_minor": 5
}
